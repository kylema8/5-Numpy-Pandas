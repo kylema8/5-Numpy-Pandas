{
 "cells": [
  {
   "cell_type": "markdown",
   "id": "024e6bca",
   "metadata": {},
   "source": [
    "### Задание 2\n",
    "По данным файла power.csv посчитайте суммарное потребление стран Прибалтики (Латвия, Литва и Эстония) категорий 4, 12 и 21 за период с 2005 по 2010 года. Не учитывайте в расчетах отрицательные значения quantity."
   ]
  },
  {
   "cell_type": "code",
   "execution_count": 1,
   "id": "e6c0cddc",
   "metadata": {},
   "outputs": [],
   "source": [
    "import pandas as pd"
   ]
  },
  {
   "cell_type": "code",
   "execution_count": 15,
   "id": "689f87c4",
   "metadata": {},
   "outputs": [
    {
     "name": "stdout",
     "output_type": "stream",
     "text": [
      "<class 'pandas.core.frame.DataFrame'>\n",
      "RangeIndex: 1189482 entries, 0 to 1189481\n",
      "Data columns (total 4 columns):\n",
      " #   Column    Non-Null Count    Dtype  \n",
      "---  ------    --------------    -----  \n",
      " 0   country   1189482 non-null  object \n",
      " 1   year      1189482 non-null  int64  \n",
      " 2   quantity  1189482 non-null  float64\n",
      " 3   category  1189482 non-null  int64  \n",
      "dtypes: float64(1), int64(2), object(1)\n",
      "memory usage: 36.3+ MB\n"
     ]
    }
   ],
   "source": [
    "data = pd.read_csv(r'C:\\Users\\Lenovo\\Documents\\Арх-разр\\5 Numpy, Pandas\\02 Pandas\\power.csv')\n",
    "data.info()"
   ]
  },
  {
   "cell_type": "code",
   "execution_count": 22,
   "id": "2a95f20f",
   "metadata": {},
   "outputs": [
    {
     "data": {
      "text/plain": [
       "408195.0"
      ]
     },
     "execution_count": 22,
     "metadata": {},
     "output_type": "execute_result"
    }
   ],
   "source": [
    "data[ ((data.country == 'Latvia') | (data.country == 'Lithuania') |\n",
    "       (data.country == 'Estonia')) \n",
    "    & ((data.category == 4) | (data.category == 12) |\n",
    "       (data.category == 21))\n",
    "    & ((2005 <= data.year) & (data.year <= 2021))\n",
    "    & (data.quantity > 0)].quantity.sum()"
   ]
  },
  {
   "cell_type": "markdown",
   "id": "7dcedc8d",
   "metadata": {},
   "source": [
    "### Задание 3\n",
    "Выберите страницу любого сайта с табличными данными. Импортируйте таблицы в pandas dataframe."
   ]
  },
  {
   "cell_type": "code",
   "execution_count": 16,
   "id": "d4ce3c06",
   "metadata": {},
   "outputs": [
    {
     "name": "stdout",
     "output_type": "stream",
     "text": [
      "[     0       1      2        3       4      5        6       7     8   \\\n",
      "0  ММВБ   2 470   0,0%   Nasdaq  12 796  -0,3%  Биткойн  41 287  6,6%   \n",
      "1   РТС     937   0,0%   S&P500   4 171  -0,7%    Нефть    1314  1,5%   \n",
      "2   Dow  32 633  -0,6%  FTSE100   6 964   0,1%   Золото   2 056  0,3%   \n",
      "\n",
      "        9        10     11  \n",
      "0  USD/RUB  1300000   0,0%  \n",
      "1  EUR/RUB  1418005  14,2%  \n",
      "2  EUR/USD    10907   0,0%  ]\n"
     ]
    }
   ],
   "source": [
    "data = pd.read_html('https://www.finanz.ru/valyuty/v-realnom-vremeni', encoding='UTF8', attrs = {'class': 'header_user_pricebox'}\n",
    "                   #, header = 1\n",
    "                   )\n",
    "print(data)"
   ]
  },
  {
   "cell_type": "code",
   "execution_count": 12,
   "id": "6c1b7926",
   "metadata": {},
   "outputs": [],
   "source": [
    "pd.read_html?"
   ]
  },
  {
   "cell_type": "code",
   "execution_count": null,
   "id": "792f5a07",
   "metadata": {},
   "outputs": [],
   "source": []
  }
 ],
 "metadata": {
  "kernelspec": {
   "display_name": "Python 3 (ipykernel)",
   "language": "python",
   "name": "python3"
  },
  "language_info": {
   "codemirror_mode": {
    "name": "ipython",
    "version": 3
   },
   "file_extension": ".py",
   "mimetype": "text/x-python",
   "name": "python",
   "nbconvert_exporter": "python",
   "pygments_lexer": "ipython3",
   "version": "3.9.7"
  }
 },
 "nbformat": 4,
 "nbformat_minor": 5
}
